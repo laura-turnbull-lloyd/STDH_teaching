{
  "nbformat": 4,
  "nbformat_minor": 0,
  "metadata": {
    "colab": {
      "provenance": [],
      "authorship_tag": "ABX9TyNyX0ZhvKHRfPfmDOrCn0Zv",
      "include_colab_link": true
    },
    "kernelspec": {
      "name": "python3",
      "display_name": "Python 3"
    },
    "language_info": {
      "name": "python"
    }
  },
  "cells": [
    {
      "cell_type": "markdown",
      "metadata": {
        "id": "view-in-github",
        "colab_type": "text"
      },
      "source": [
        "<a href=\"https://colab.research.google.com/github/laura-turnbull-lloyd/STDH_teaching/blob/main/Lecture_4_analysing_spatial_patterns.ipynb\" target=\"_parent\"><img src=\"https://colab.research.google.com/assets/colab-badge.svg\" alt=\"Open In Colab\"/></a>"
      ]
    },
    {
      "cell_type": "markdown",
      "source": [
        "# Introduction\n",
        "\n",
        "Today we're going to be focussing on analysing the spatial distribution of hazards and looking at event effectiveness.\n",
        "\n",
        "You'll be working with a spatial dataset consisting of polygons representing landslides that occurred during the 2008 Mw 7.9 Wenchuan earthquake in China. The data represent an area of 20 x 20 km.\n"
      ],
      "metadata": {
        "id": "qwtm067jNpVV"
      }
    },
    {
      "cell_type": "markdown",
      "source": [
        "## Packages we'll be working with\n",
        "\n",
        "GeoPandas -- which offers a pandas-like interface to working with geodata. Think of this as your tool for basic data manipulation and transformation, much like pandas. To ensure that geopandas (and its dependencies) are correctly installed, make sure you run the package install script as detailed below (there are a few issues with installing geopandas correcty on google colab!).\n",
        "\n",
        "The other packages listed are those that you've worked with before, or packages that geopandas depends on."
      ],
      "metadata": {
        "id": "kXT86n-5I7KN"
      }
    },
    {
      "cell_type": "code",
      "execution_count": 2,
      "metadata": {
        "id": "wXYKhvFoETr0",
        "collapsed": true,
        "outputId": "5bcf9807-934d-4f9b-a94c-cb3a6f47468d",
        "colab": {
          "base_uri": "https://localhost:8080/"
        }
      },
      "outputs": [
        {
          "output_type": "stream",
          "name": "stdout",
          "text": [
            "Requirement already satisfied: pandas in /usr/local/lib/python3.12/dist-packages (2.2.2)\n",
            "Requirement already satisfied: fiona in /usr/local/lib/python3.12/dist-packages (1.10.1)\n",
            "Requirement already satisfied: shapely in /usr/local/lib/python3.12/dist-packages (2.1.2)\n",
            "Requirement already satisfied: pyproj in /usr/local/lib/python3.12/dist-packages (3.7.2)\n",
            "Requirement already satisfied: rtree in /usr/local/lib/python3.12/dist-packages (1.4.1)\n",
            "Requirement already satisfied: numpy>=1.26.0 in /usr/local/lib/python3.12/dist-packages (from pandas) (2.0.2)\n",
            "Requirement already satisfied: python-dateutil>=2.8.2 in /usr/local/lib/python3.12/dist-packages (from pandas) (2.9.0.post0)\n",
            "Requirement already satisfied: pytz>=2020.1 in /usr/local/lib/python3.12/dist-packages (from pandas) (2025.2)\n",
            "Requirement already satisfied: tzdata>=2022.7 in /usr/local/lib/python3.12/dist-packages (from pandas) (2025.2)\n",
            "Requirement already satisfied: attrs>=19.2.0 in /usr/local/lib/python3.12/dist-packages (from fiona) (25.4.0)\n",
            "Requirement already satisfied: certifi in /usr/local/lib/python3.12/dist-packages (from fiona) (2025.10.5)\n",
            "Requirement already satisfied: click~=8.0 in /usr/local/lib/python3.12/dist-packages (from fiona) (8.3.0)\n",
            "Requirement already satisfied: click-plugins>=1.0 in /usr/local/lib/python3.12/dist-packages (from fiona) (1.1.1.2)\n",
            "Requirement already satisfied: cligj>=0.5 in /usr/local/lib/python3.12/dist-packages (from fiona) (0.7.2)\n",
            "Requirement already satisfied: six>=1.5 in /usr/local/lib/python3.12/dist-packages (from python-dateutil>=2.8.2->pandas) (1.17.0)\n",
            "Requirement already satisfied: geopandas in /usr/local/lib/python3.12/dist-packages (1.1.1)\n",
            "Requirement already satisfied: numpy>=1.24 in /usr/local/lib/python3.12/dist-packages (from geopandas) (2.0.2)\n",
            "Requirement already satisfied: pyogrio>=0.7.2 in /usr/local/lib/python3.12/dist-packages (from geopandas) (0.11.1)\n",
            "Requirement already satisfied: packaging in /usr/local/lib/python3.12/dist-packages (from geopandas) (25.0)\n",
            "Requirement already satisfied: pandas>=2.0.0 in /usr/local/lib/python3.12/dist-packages (from geopandas) (2.2.2)\n",
            "Requirement already satisfied: pyproj>=3.5.0 in /usr/local/lib/python3.12/dist-packages (from geopandas) (3.7.2)\n",
            "Requirement already satisfied: shapely>=2.0.0 in /usr/local/lib/python3.12/dist-packages (from geopandas) (2.1.2)\n",
            "Requirement already satisfied: python-dateutil>=2.8.2 in /usr/local/lib/python3.12/dist-packages (from pandas>=2.0.0->geopandas) (2.9.0.post0)\n",
            "Requirement already satisfied: pytz>=2020.1 in /usr/local/lib/python3.12/dist-packages (from pandas>=2.0.0->geopandas) (2025.2)\n",
            "Requirement already satisfied: tzdata>=2022.7 in /usr/local/lib/python3.12/dist-packages (from pandas>=2.0.0->geopandas) (2025.2)\n",
            "Requirement already satisfied: certifi in /usr/local/lib/python3.12/dist-packages (from pyogrio>=0.7.2->geopandas) (2025.10.5)\n",
            "Requirement already satisfied: six>=1.5 in /usr/local/lib/python3.12/dist-packages (from python-dateutil>=2.8.2->pandas>=2.0.0->geopandas) (1.17.0)\n"
          ]
        }
      ],
      "source": [
        "!pip install pandas fiona shapely pyproj rtree\n",
        "\n",
        "import pandas as pd\n",
        "# to make sure that pandas outputs values in an easy to read format, we can customise the output format:\n",
        "pd.set_option('display.float_format', lambda x: '%.5f' % x)\n",
        "\n",
        "import numpy as np\n",
        "import matplotlib.pyplot as plt\n",
        "!pip install geopandas\n",
        "import geopandas as gpd\n",
        "import shapely\n",
        "import pyproj\n",
        "import rtree\n",
        "import requests\n",
        "import zipfile\n",
        "import io\n",
        "import seaborn"
      ]
    },
    {
      "cell_type": "markdown",
      "source": [
        "#Reading in landslide data\n",
        "The data have been provided for you in a shapefile format, in a zipped up file for you on GitHub. In the script below, you will automatically extract the data from GitHub (so no need to download it).\n",
        "\n",
        "In case you also wish to explore the data in a more traditional Geogrpahical Infromation System (e.g. ArcPro or QGIS), I have also provided the data for you on Learn Ultra on this weeks page.\n",
        "\n",
        "\n",
        "To read in the data from GitHub and view the data:"
      ],
      "metadata": {
        "id": "R0Dcyk68EVG-"
      }
    },
    {
      "cell_type": "code",
      "source": [
        "# read in data that's provided for you on Github\n",
        "url = \"https://github.com/laura-turnbull-lloyd/STDH_teaching/raw/main/landslides_clip.zip\"\n",
        "\n",
        "# Download the zip file into memory\n",
        "r = requests.get(url)\n",
        "z = zipfile.ZipFile(io.BytesIO(r.content))"
      ],
      "metadata": {
        "id": "AY97d6oC_NlD"
      },
      "execution_count": 4,
      "outputs": []
    },
    {
      "cell_type": "code",
      "source": [
        "# read in the shapefile\n",
        "\n",
        "z.extractall(\"landslides_clip\")\n",
        "LS = gpd.read_file(\"landslides_clip\") # this reads in the landslide data\n",
        "\n",
        "# Let's view the header info of the landslide data we've just read in\n",
        "LS.head()\n"
      ],
      "metadata": {
        "id": "orke1TRWGi-x",
        "outputId": "755ad5a0-8438-4b30-c6c2-040ed9f3552c",
        "colab": {
          "base_uri": "https://localhost:8080/",
          "height": 206
        }
      },
      "execution_count": 9,
      "outputs": [
        {
          "output_type": "execute_result",
          "data": {
            "text/plain": [
              "      ID   area_rob data                                           geometry\n",
              "0  37469  500.00000  rnp  POLYGON ((376386.922 3469995, 376366.922 34699...\n",
              "1  37470 1600.00000  rnp  POLYGON ((383916.922 3469995, 383896.922 34699...\n",
              "2  37471 3100.00000  rnp  POLYGON ((384546.922 3469995, 384536.922 34699...\n",
              "3  37475 3800.00000  rnp  POLYGON ((377946.922 3469995, 377946.922 34699...\n",
              "4  37476 2500.00000  rnp  POLYGON ((388336.922 3469985, 388316.922 34699..."
            ],
            "text/html": [
              "\n",
              "  <div id=\"df-4db13868-4cba-4135-a1fa-77f2772d0123\" class=\"colab-df-container\">\n",
              "    <div>\n",
              "<style scoped>\n",
              "    .dataframe tbody tr th:only-of-type {\n",
              "        vertical-align: middle;\n",
              "    }\n",
              "\n",
              "    .dataframe tbody tr th {\n",
              "        vertical-align: top;\n",
              "    }\n",
              "\n",
              "    .dataframe thead th {\n",
              "        text-align: right;\n",
              "    }\n",
              "</style>\n",
              "<table border=\"1\" class=\"dataframe\">\n",
              "  <thead>\n",
              "    <tr style=\"text-align: right;\">\n",
              "      <th></th>\n",
              "      <th>ID</th>\n",
              "      <th>area_rob</th>\n",
              "      <th>data</th>\n",
              "      <th>geometry</th>\n",
              "    </tr>\n",
              "  </thead>\n",
              "  <tbody>\n",
              "    <tr>\n",
              "      <th>0</th>\n",
              "      <td>37469</td>\n",
              "      <td>500.00000</td>\n",
              "      <td>rnp</td>\n",
              "      <td>POLYGON ((376386.922 3469995, 376366.922 34699...</td>\n",
              "    </tr>\n",
              "    <tr>\n",
              "      <th>1</th>\n",
              "      <td>37470</td>\n",
              "      <td>1600.00000</td>\n",
              "      <td>rnp</td>\n",
              "      <td>POLYGON ((383916.922 3469995, 383896.922 34699...</td>\n",
              "    </tr>\n",
              "    <tr>\n",
              "      <th>2</th>\n",
              "      <td>37471</td>\n",
              "      <td>3100.00000</td>\n",
              "      <td>rnp</td>\n",
              "      <td>POLYGON ((384546.922 3469995, 384536.922 34699...</td>\n",
              "    </tr>\n",
              "    <tr>\n",
              "      <th>3</th>\n",
              "      <td>37475</td>\n",
              "      <td>3800.00000</td>\n",
              "      <td>rnp</td>\n",
              "      <td>POLYGON ((377946.922 3469995, 377946.922 34699...</td>\n",
              "    </tr>\n",
              "    <tr>\n",
              "      <th>4</th>\n",
              "      <td>37476</td>\n",
              "      <td>2500.00000</td>\n",
              "      <td>rnp</td>\n",
              "      <td>POLYGON ((388336.922 3469985, 388316.922 34699...</td>\n",
              "    </tr>\n",
              "  </tbody>\n",
              "</table>\n",
              "</div>\n",
              "    <div class=\"colab-df-buttons\">\n",
              "\n",
              "  <div class=\"colab-df-container\">\n",
              "    <button class=\"colab-df-convert\" onclick=\"convertToInteractive('df-4db13868-4cba-4135-a1fa-77f2772d0123')\"\n",
              "            title=\"Convert this dataframe to an interactive table.\"\n",
              "            style=\"display:none;\">\n",
              "\n",
              "  <svg xmlns=\"http://www.w3.org/2000/svg\" height=\"24px\" viewBox=\"0 -960 960 960\">\n",
              "    <path d=\"M120-120v-720h720v720H120Zm60-500h600v-160H180v160Zm220 220h160v-160H400v160Zm0 220h160v-160H400v160ZM180-400h160v-160H180v160Zm440 0h160v-160H620v160ZM180-180h160v-160H180v160Zm440 0h160v-160H620v160Z\"/>\n",
              "  </svg>\n",
              "    </button>\n",
              "\n",
              "  <style>\n",
              "    .colab-df-container {\n",
              "      display:flex;\n",
              "      gap: 12px;\n",
              "    }\n",
              "\n",
              "    .colab-df-convert {\n",
              "      background-color: #E8F0FE;\n",
              "      border: none;\n",
              "      border-radius: 50%;\n",
              "      cursor: pointer;\n",
              "      display: none;\n",
              "      fill: #1967D2;\n",
              "      height: 32px;\n",
              "      padding: 0 0 0 0;\n",
              "      width: 32px;\n",
              "    }\n",
              "\n",
              "    .colab-df-convert:hover {\n",
              "      background-color: #E2EBFA;\n",
              "      box-shadow: 0px 1px 2px rgba(60, 64, 67, 0.3), 0px 1px 3px 1px rgba(60, 64, 67, 0.15);\n",
              "      fill: #174EA6;\n",
              "    }\n",
              "\n",
              "    .colab-df-buttons div {\n",
              "      margin-bottom: 4px;\n",
              "    }\n",
              "\n",
              "    [theme=dark] .colab-df-convert {\n",
              "      background-color: #3B4455;\n",
              "      fill: #D2E3FC;\n",
              "    }\n",
              "\n",
              "    [theme=dark] .colab-df-convert:hover {\n",
              "      background-color: #434B5C;\n",
              "      box-shadow: 0px 1px 3px 1px rgba(0, 0, 0, 0.15);\n",
              "      filter: drop-shadow(0px 1px 2px rgba(0, 0, 0, 0.3));\n",
              "      fill: #FFFFFF;\n",
              "    }\n",
              "  </style>\n",
              "\n",
              "    <script>\n",
              "      const buttonEl =\n",
              "        document.querySelector('#df-4db13868-4cba-4135-a1fa-77f2772d0123 button.colab-df-convert');\n",
              "      buttonEl.style.display =\n",
              "        google.colab.kernel.accessAllowed ? 'block' : 'none';\n",
              "\n",
              "      async function convertToInteractive(key) {\n",
              "        const element = document.querySelector('#df-4db13868-4cba-4135-a1fa-77f2772d0123');\n",
              "        const dataTable =\n",
              "          await google.colab.kernel.invokeFunction('convertToInteractive',\n",
              "                                                    [key], {});\n",
              "        if (!dataTable) return;\n",
              "\n",
              "        const docLinkHtml = 'Like what you see? Visit the ' +\n",
              "          '<a target=\"_blank\" href=https://colab.research.google.com/notebooks/data_table.ipynb>data table notebook</a>'\n",
              "          + ' to learn more about interactive tables.';\n",
              "        element.innerHTML = '';\n",
              "        dataTable['output_type'] = 'display_data';\n",
              "        await google.colab.output.renderOutput(dataTable, element);\n",
              "        const docLink = document.createElement('div');\n",
              "        docLink.innerHTML = docLinkHtml;\n",
              "        element.appendChild(docLink);\n",
              "      }\n",
              "    </script>\n",
              "  </div>\n",
              "\n",
              "\n",
              "    <div id=\"df-8b8e5248-e447-43dd-b071-44d8344d49d9\">\n",
              "      <button class=\"colab-df-quickchart\" onclick=\"quickchart('df-8b8e5248-e447-43dd-b071-44d8344d49d9')\"\n",
              "                title=\"Suggest charts\"\n",
              "                style=\"display:none;\">\n",
              "\n",
              "<svg xmlns=\"http://www.w3.org/2000/svg\" height=\"24px\"viewBox=\"0 0 24 24\"\n",
              "     width=\"24px\">\n",
              "    <g>\n",
              "        <path d=\"M19 3H5c-1.1 0-2 .9-2 2v14c0 1.1.9 2 2 2h14c1.1 0 2-.9 2-2V5c0-1.1-.9-2-2-2zM9 17H7v-7h2v7zm4 0h-2V7h2v10zm4 0h-2v-4h2v4z\"/>\n",
              "    </g>\n",
              "</svg>\n",
              "      </button>\n",
              "\n",
              "<style>\n",
              "  .colab-df-quickchart {\n",
              "      --bg-color: #E8F0FE;\n",
              "      --fill-color: #1967D2;\n",
              "      --hover-bg-color: #E2EBFA;\n",
              "      --hover-fill-color: #174EA6;\n",
              "      --disabled-fill-color: #AAA;\n",
              "      --disabled-bg-color: #DDD;\n",
              "  }\n",
              "\n",
              "  [theme=dark] .colab-df-quickchart {\n",
              "      --bg-color: #3B4455;\n",
              "      --fill-color: #D2E3FC;\n",
              "      --hover-bg-color: #434B5C;\n",
              "      --hover-fill-color: #FFFFFF;\n",
              "      --disabled-bg-color: #3B4455;\n",
              "      --disabled-fill-color: #666;\n",
              "  }\n",
              "\n",
              "  .colab-df-quickchart {\n",
              "    background-color: var(--bg-color);\n",
              "    border: none;\n",
              "    border-radius: 50%;\n",
              "    cursor: pointer;\n",
              "    display: none;\n",
              "    fill: var(--fill-color);\n",
              "    height: 32px;\n",
              "    padding: 0;\n",
              "    width: 32px;\n",
              "  }\n",
              "\n",
              "  .colab-df-quickchart:hover {\n",
              "    background-color: var(--hover-bg-color);\n",
              "    box-shadow: 0 1px 2px rgba(60, 64, 67, 0.3), 0 1px 3px 1px rgba(60, 64, 67, 0.15);\n",
              "    fill: var(--button-hover-fill-color);\n",
              "  }\n",
              "\n",
              "  .colab-df-quickchart-complete:disabled,\n",
              "  .colab-df-quickchart-complete:disabled:hover {\n",
              "    background-color: var(--disabled-bg-color);\n",
              "    fill: var(--disabled-fill-color);\n",
              "    box-shadow: none;\n",
              "  }\n",
              "\n",
              "  .colab-df-spinner {\n",
              "    border: 2px solid var(--fill-color);\n",
              "    border-color: transparent;\n",
              "    border-bottom-color: var(--fill-color);\n",
              "    animation:\n",
              "      spin 1s steps(1) infinite;\n",
              "  }\n",
              "\n",
              "  @keyframes spin {\n",
              "    0% {\n",
              "      border-color: transparent;\n",
              "      border-bottom-color: var(--fill-color);\n",
              "      border-left-color: var(--fill-color);\n",
              "    }\n",
              "    20% {\n",
              "      border-color: transparent;\n",
              "      border-left-color: var(--fill-color);\n",
              "      border-top-color: var(--fill-color);\n",
              "    }\n",
              "    30% {\n",
              "      border-color: transparent;\n",
              "      border-left-color: var(--fill-color);\n",
              "      border-top-color: var(--fill-color);\n",
              "      border-right-color: var(--fill-color);\n",
              "    }\n",
              "    40% {\n",
              "      border-color: transparent;\n",
              "      border-right-color: var(--fill-color);\n",
              "      border-top-color: var(--fill-color);\n",
              "    }\n",
              "    60% {\n",
              "      border-color: transparent;\n",
              "      border-right-color: var(--fill-color);\n",
              "    }\n",
              "    80% {\n",
              "      border-color: transparent;\n",
              "      border-right-color: var(--fill-color);\n",
              "      border-bottom-color: var(--fill-color);\n",
              "    }\n",
              "    90% {\n",
              "      border-color: transparent;\n",
              "      border-bottom-color: var(--fill-color);\n",
              "    }\n",
              "  }\n",
              "</style>\n",
              "\n",
              "      <script>\n",
              "        async function quickchart(key) {\n",
              "          const quickchartButtonEl =\n",
              "            document.querySelector('#' + key + ' button');\n",
              "          quickchartButtonEl.disabled = true;  // To prevent multiple clicks.\n",
              "          quickchartButtonEl.classList.add('colab-df-spinner');\n",
              "          try {\n",
              "            const charts = await google.colab.kernel.invokeFunction(\n",
              "                'suggestCharts', [key], {});\n",
              "          } catch (error) {\n",
              "            console.error('Error during call to suggestCharts:', error);\n",
              "          }\n",
              "          quickchartButtonEl.classList.remove('colab-df-spinner');\n",
              "          quickchartButtonEl.classList.add('colab-df-quickchart-complete');\n",
              "        }\n",
              "        (() => {\n",
              "          let quickchartButtonEl =\n",
              "            document.querySelector('#df-8b8e5248-e447-43dd-b071-44d8344d49d9 button');\n",
              "          quickchartButtonEl.style.display =\n",
              "            google.colab.kernel.accessAllowed ? 'block' : 'none';\n",
              "        })();\n",
              "      </script>\n",
              "    </div>\n",
              "\n",
              "    </div>\n",
              "  </div>\n"
            ],
            "application/vnd.google.colaboratory.intrinsic+json": {
              "type": "dataframe",
              "variable_name": "LS",
              "summary": "{\n  \"name\": \"LS\",\n  \"rows\": 6604,\n  \"fields\": [\n    {\n      \"column\": \"ID\",\n      \"properties\": {\n        \"dtype\": \"number\",\n        \"std\": 4891,\n        \"min\": 37469,\n        \"max\": 54883,\n        \"num_unique_values\": 6604,\n        \"samples\": [\n          41043,\n          50072,\n          38206\n        ],\n        \"semantic_type\": \"\",\n        \"description\": \"\"\n      }\n    },\n    {\n      \"column\": \"area_rob\",\n      \"properties\": {\n        \"dtype\": \"number\",\n        \"std\": 81665.57068289866,\n        \"min\": 400.0,\n        \"max\": 3197700.0,\n        \"num_unique_values\": 485,\n        \"samples\": [\n          42900.0,\n          66300.0,\n          12800.0\n        ],\n        \"semantic_type\": \"\",\n        \"description\": \"\"\n      }\n    },\n    {\n      \"column\": \"data\",\n      \"properties\": {\n        \"dtype\": \"category\",\n        \"num_unique_values\": 1,\n        \"samples\": [\n          \"rnp\"\n        ],\n        \"semantic_type\": \"\",\n        \"description\": \"\"\n      }\n    },\n    {\n      \"column\": \"geometry\",\n      \"properties\": {\n        \"dtype\": \"geometry\",\n        \"num_unique_values\": 6604,\n        \"samples\": [\n          \"POLYGON ((373386.9222462725 3465975.000000001, 373386.9222462725 3465965.0000000005, 373396.9222462727 3465965.0000000005, 373396.9222462727 3465935, 373376.92224627227 3465935, 373376.92224627227 3465975.000000001, 373386.9222462725 3465975.000000001))\"\n        ],\n        \"semantic_type\": \"\",\n        \"description\": \"\"\n      }\n    }\n  ]\n}"
            }
          },
          "metadata": {},
          "execution_count": 9
        }
      ]
    },
    {
      "cell_type": "markdown",
      "source": [
        "Alternatively we can print out the whole dataset which will show us the first and last few lines in the dataset:"
      ],
      "metadata": {
        "id": "KJt2eUV0BeTB"
      }
    },
    {
      "cell_type": "code",
      "source": [
        "#Printing out the whole dataset\n",
        "LS"
      ],
      "metadata": {
        "id": "gWZEsp7nBlfM",
        "outputId": "faf18087-a88b-404a-a230-943c641d40bf",
        "colab": {
          "base_uri": "https://localhost:8080/",
          "height": 423
        }
      },
      "execution_count": 8,
      "outputs": [
        {
          "output_type": "execute_result",
          "data": {
            "text/plain": [
              "         ID     area_rob data  \\\n",
              "0     37469    500.00000  rnp   \n",
              "1     37470   1600.00000  rnp   \n",
              "2     37471   3100.00000  rnp   \n",
              "3     37475   3800.00000  rnp   \n",
              "4     37476   2500.00000  rnp   \n",
              "...     ...          ...  ...   \n",
              "6599  54720   2200.00000  rnp   \n",
              "6600  54731   4100.00000  rnp   \n",
              "6601  54756  12500.00000  rnp   \n",
              "6602  54882  14500.00000  rnp   \n",
              "6603  54883 107800.00000  rnp   \n",
              "\n",
              "                                               geometry  \n",
              "0     POLYGON ((376386.922 3469995, 376366.922 34699...  \n",
              "1     POLYGON ((383916.922 3469995, 383896.922 34699...  \n",
              "2     POLYGON ((384546.922 3469995, 384536.922 34699...  \n",
              "3     POLYGON ((377946.922 3469995, 377946.922 34699...  \n",
              "4     POLYGON ((388336.922 3469985, 388316.922 34699...  \n",
              "...                                                 ...  \n",
              "6599  POLYGON ((373546.922 3450015, 373546.922 34500...  \n",
              "6600  POLYGON ((377756.922 3450000, 377716.922 34500...  \n",
              "6601  MULTIPOLYGON (((375156.922 3450000, 375106.922...  \n",
              "6602  POLYGON ((373366.922 3450025, 373366.922 34500...  \n",
              "6603  MULTIPOLYGON (((381696.922 3450145, 381696.922...  \n",
              "\n",
              "[6604 rows x 4 columns]"
            ],
            "text/html": [
              "\n",
              "  <div id=\"df-d930d847-0ca2-4e2d-a6e9-e87696e408fa\" class=\"colab-df-container\">\n",
              "    <div>\n",
              "<style scoped>\n",
              "    .dataframe tbody tr th:only-of-type {\n",
              "        vertical-align: middle;\n",
              "    }\n",
              "\n",
              "    .dataframe tbody tr th {\n",
              "        vertical-align: top;\n",
              "    }\n",
              "\n",
              "    .dataframe thead th {\n",
              "        text-align: right;\n",
              "    }\n",
              "</style>\n",
              "<table border=\"1\" class=\"dataframe\">\n",
              "  <thead>\n",
              "    <tr style=\"text-align: right;\">\n",
              "      <th></th>\n",
              "      <th>ID</th>\n",
              "      <th>area_rob</th>\n",
              "      <th>data</th>\n",
              "      <th>geometry</th>\n",
              "    </tr>\n",
              "  </thead>\n",
              "  <tbody>\n",
              "    <tr>\n",
              "      <th>0</th>\n",
              "      <td>37469</td>\n",
              "      <td>500.00000</td>\n",
              "      <td>rnp</td>\n",
              "      <td>POLYGON ((376386.922 3469995, 376366.922 34699...</td>\n",
              "    </tr>\n",
              "    <tr>\n",
              "      <th>1</th>\n",
              "      <td>37470</td>\n",
              "      <td>1600.00000</td>\n",
              "      <td>rnp</td>\n",
              "      <td>POLYGON ((383916.922 3469995, 383896.922 34699...</td>\n",
              "    </tr>\n",
              "    <tr>\n",
              "      <th>2</th>\n",
              "      <td>37471</td>\n",
              "      <td>3100.00000</td>\n",
              "      <td>rnp</td>\n",
              "      <td>POLYGON ((384546.922 3469995, 384536.922 34699...</td>\n",
              "    </tr>\n",
              "    <tr>\n",
              "      <th>3</th>\n",
              "      <td>37475</td>\n",
              "      <td>3800.00000</td>\n",
              "      <td>rnp</td>\n",
              "      <td>POLYGON ((377946.922 3469995, 377946.922 34699...</td>\n",
              "    </tr>\n",
              "    <tr>\n",
              "      <th>4</th>\n",
              "      <td>37476</td>\n",
              "      <td>2500.00000</td>\n",
              "      <td>rnp</td>\n",
              "      <td>POLYGON ((388336.922 3469985, 388316.922 34699...</td>\n",
              "    </tr>\n",
              "    <tr>\n",
              "      <th>...</th>\n",
              "      <td>...</td>\n",
              "      <td>...</td>\n",
              "      <td>...</td>\n",
              "      <td>...</td>\n",
              "    </tr>\n",
              "    <tr>\n",
              "      <th>6599</th>\n",
              "      <td>54720</td>\n",
              "      <td>2200.00000</td>\n",
              "      <td>rnp</td>\n",
              "      <td>POLYGON ((373546.922 3450015, 373546.922 34500...</td>\n",
              "    </tr>\n",
              "    <tr>\n",
              "      <th>6600</th>\n",
              "      <td>54731</td>\n",
              "      <td>4100.00000</td>\n",
              "      <td>rnp</td>\n",
              "      <td>POLYGON ((377756.922 3450000, 377716.922 34500...</td>\n",
              "    </tr>\n",
              "    <tr>\n",
              "      <th>6601</th>\n",
              "      <td>54756</td>\n",
              "      <td>12500.00000</td>\n",
              "      <td>rnp</td>\n",
              "      <td>MULTIPOLYGON (((375156.922 3450000, 375106.922...</td>\n",
              "    </tr>\n",
              "    <tr>\n",
              "      <th>6602</th>\n",
              "      <td>54882</td>\n",
              "      <td>14500.00000</td>\n",
              "      <td>rnp</td>\n",
              "      <td>POLYGON ((373366.922 3450025, 373366.922 34500...</td>\n",
              "    </tr>\n",
              "    <tr>\n",
              "      <th>6603</th>\n",
              "      <td>54883</td>\n",
              "      <td>107800.00000</td>\n",
              "      <td>rnp</td>\n",
              "      <td>MULTIPOLYGON (((381696.922 3450145, 381696.922...</td>\n",
              "    </tr>\n",
              "  </tbody>\n",
              "</table>\n",
              "<p>6604 rows × 4 columns</p>\n",
              "</div>\n",
              "    <div class=\"colab-df-buttons\">\n",
              "\n",
              "  <div class=\"colab-df-container\">\n",
              "    <button class=\"colab-df-convert\" onclick=\"convertToInteractive('df-d930d847-0ca2-4e2d-a6e9-e87696e408fa')\"\n",
              "            title=\"Convert this dataframe to an interactive table.\"\n",
              "            style=\"display:none;\">\n",
              "\n",
              "  <svg xmlns=\"http://www.w3.org/2000/svg\" height=\"24px\" viewBox=\"0 -960 960 960\">\n",
              "    <path d=\"M120-120v-720h720v720H120Zm60-500h600v-160H180v160Zm220 220h160v-160H400v160Zm0 220h160v-160H400v160ZM180-400h160v-160H180v160Zm440 0h160v-160H620v160ZM180-180h160v-160H180v160Zm440 0h160v-160H620v160Z\"/>\n",
              "  </svg>\n",
              "    </button>\n",
              "\n",
              "  <style>\n",
              "    .colab-df-container {\n",
              "      display:flex;\n",
              "      gap: 12px;\n",
              "    }\n",
              "\n",
              "    .colab-df-convert {\n",
              "      background-color: #E8F0FE;\n",
              "      border: none;\n",
              "      border-radius: 50%;\n",
              "      cursor: pointer;\n",
              "      display: none;\n",
              "      fill: #1967D2;\n",
              "      height: 32px;\n",
              "      padding: 0 0 0 0;\n",
              "      width: 32px;\n",
              "    }\n",
              "\n",
              "    .colab-df-convert:hover {\n",
              "      background-color: #E2EBFA;\n",
              "      box-shadow: 0px 1px 2px rgba(60, 64, 67, 0.3), 0px 1px 3px 1px rgba(60, 64, 67, 0.15);\n",
              "      fill: #174EA6;\n",
              "    }\n",
              "\n",
              "    .colab-df-buttons div {\n",
              "      margin-bottom: 4px;\n",
              "    }\n",
              "\n",
              "    [theme=dark] .colab-df-convert {\n",
              "      background-color: #3B4455;\n",
              "      fill: #D2E3FC;\n",
              "    }\n",
              "\n",
              "    [theme=dark] .colab-df-convert:hover {\n",
              "      background-color: #434B5C;\n",
              "      box-shadow: 0px 1px 3px 1px rgba(0, 0, 0, 0.15);\n",
              "      filter: drop-shadow(0px 1px 2px rgba(0, 0, 0, 0.3));\n",
              "      fill: #FFFFFF;\n",
              "    }\n",
              "  </style>\n",
              "\n",
              "    <script>\n",
              "      const buttonEl =\n",
              "        document.querySelector('#df-d930d847-0ca2-4e2d-a6e9-e87696e408fa button.colab-df-convert');\n",
              "      buttonEl.style.display =\n",
              "        google.colab.kernel.accessAllowed ? 'block' : 'none';\n",
              "\n",
              "      async function convertToInteractive(key) {\n",
              "        const element = document.querySelector('#df-d930d847-0ca2-4e2d-a6e9-e87696e408fa');\n",
              "        const dataTable =\n",
              "          await google.colab.kernel.invokeFunction('convertToInteractive',\n",
              "                                                    [key], {});\n",
              "        if (!dataTable) return;\n",
              "\n",
              "        const docLinkHtml = 'Like what you see? Visit the ' +\n",
              "          '<a target=\"_blank\" href=https://colab.research.google.com/notebooks/data_table.ipynb>data table notebook</a>'\n",
              "          + ' to learn more about interactive tables.';\n",
              "        element.innerHTML = '';\n",
              "        dataTable['output_type'] = 'display_data';\n",
              "        await google.colab.output.renderOutput(dataTable, element);\n",
              "        const docLink = document.createElement('div');\n",
              "        docLink.innerHTML = docLinkHtml;\n",
              "        element.appendChild(docLink);\n",
              "      }\n",
              "    </script>\n",
              "  </div>\n",
              "\n",
              "\n",
              "    <div id=\"df-3115e1c2-a022-41e6-ab26-8bf4d806e8bf\">\n",
              "      <button class=\"colab-df-quickchart\" onclick=\"quickchart('df-3115e1c2-a022-41e6-ab26-8bf4d806e8bf')\"\n",
              "                title=\"Suggest charts\"\n",
              "                style=\"display:none;\">\n",
              "\n",
              "<svg xmlns=\"http://www.w3.org/2000/svg\" height=\"24px\"viewBox=\"0 0 24 24\"\n",
              "     width=\"24px\">\n",
              "    <g>\n",
              "        <path d=\"M19 3H5c-1.1 0-2 .9-2 2v14c0 1.1.9 2 2 2h14c1.1 0 2-.9 2-2V5c0-1.1-.9-2-2-2zM9 17H7v-7h2v7zm4 0h-2V7h2v10zm4 0h-2v-4h2v4z\"/>\n",
              "    </g>\n",
              "</svg>\n",
              "      </button>\n",
              "\n",
              "<style>\n",
              "  .colab-df-quickchart {\n",
              "      --bg-color: #E8F0FE;\n",
              "      --fill-color: #1967D2;\n",
              "      --hover-bg-color: #E2EBFA;\n",
              "      --hover-fill-color: #174EA6;\n",
              "      --disabled-fill-color: #AAA;\n",
              "      --disabled-bg-color: #DDD;\n",
              "  }\n",
              "\n",
              "  [theme=dark] .colab-df-quickchart {\n",
              "      --bg-color: #3B4455;\n",
              "      --fill-color: #D2E3FC;\n",
              "      --hover-bg-color: #434B5C;\n",
              "      --hover-fill-color: #FFFFFF;\n",
              "      --disabled-bg-color: #3B4455;\n",
              "      --disabled-fill-color: #666;\n",
              "  }\n",
              "\n",
              "  .colab-df-quickchart {\n",
              "    background-color: var(--bg-color);\n",
              "    border: none;\n",
              "    border-radius: 50%;\n",
              "    cursor: pointer;\n",
              "    display: none;\n",
              "    fill: var(--fill-color);\n",
              "    height: 32px;\n",
              "    padding: 0;\n",
              "    width: 32px;\n",
              "  }\n",
              "\n",
              "  .colab-df-quickchart:hover {\n",
              "    background-color: var(--hover-bg-color);\n",
              "    box-shadow: 0 1px 2px rgba(60, 64, 67, 0.3), 0 1px 3px 1px rgba(60, 64, 67, 0.15);\n",
              "    fill: var(--button-hover-fill-color);\n",
              "  }\n",
              "\n",
              "  .colab-df-quickchart-complete:disabled,\n",
              "  .colab-df-quickchart-complete:disabled:hover {\n",
              "    background-color: var(--disabled-bg-color);\n",
              "    fill: var(--disabled-fill-color);\n",
              "    box-shadow: none;\n",
              "  }\n",
              "\n",
              "  .colab-df-spinner {\n",
              "    border: 2px solid var(--fill-color);\n",
              "    border-color: transparent;\n",
              "    border-bottom-color: var(--fill-color);\n",
              "    animation:\n",
              "      spin 1s steps(1) infinite;\n",
              "  }\n",
              "\n",
              "  @keyframes spin {\n",
              "    0% {\n",
              "      border-color: transparent;\n",
              "      border-bottom-color: var(--fill-color);\n",
              "      border-left-color: var(--fill-color);\n",
              "    }\n",
              "    20% {\n",
              "      border-color: transparent;\n",
              "      border-left-color: var(--fill-color);\n",
              "      border-top-color: var(--fill-color);\n",
              "    }\n",
              "    30% {\n",
              "      border-color: transparent;\n",
              "      border-left-color: var(--fill-color);\n",
              "      border-top-color: var(--fill-color);\n",
              "      border-right-color: var(--fill-color);\n",
              "    }\n",
              "    40% {\n",
              "      border-color: transparent;\n",
              "      border-right-color: var(--fill-color);\n",
              "      border-top-color: var(--fill-color);\n",
              "    }\n",
              "    60% {\n",
              "      border-color: transparent;\n",
              "      border-right-color: var(--fill-color);\n",
              "    }\n",
              "    80% {\n",
              "      border-color: transparent;\n",
              "      border-right-color: var(--fill-color);\n",
              "      border-bottom-color: var(--fill-color);\n",
              "    }\n",
              "    90% {\n",
              "      border-color: transparent;\n",
              "      border-bottom-color: var(--fill-color);\n",
              "    }\n",
              "  }\n",
              "</style>\n",
              "\n",
              "      <script>\n",
              "        async function quickchart(key) {\n",
              "          const quickchartButtonEl =\n",
              "            document.querySelector('#' + key + ' button');\n",
              "          quickchartButtonEl.disabled = true;  // To prevent multiple clicks.\n",
              "          quickchartButtonEl.classList.add('colab-df-spinner');\n",
              "          try {\n",
              "            const charts = await google.colab.kernel.invokeFunction(\n",
              "                'suggestCharts', [key], {});\n",
              "          } catch (error) {\n",
              "            console.error('Error during call to suggestCharts:', error);\n",
              "          }\n",
              "          quickchartButtonEl.classList.remove('colab-df-spinner');\n",
              "          quickchartButtonEl.classList.add('colab-df-quickchart-complete');\n",
              "        }\n",
              "        (() => {\n",
              "          let quickchartButtonEl =\n",
              "            document.querySelector('#df-3115e1c2-a022-41e6-ab26-8bf4d806e8bf button');\n",
              "          quickchartButtonEl.style.display =\n",
              "            google.colab.kernel.accessAllowed ? 'block' : 'none';\n",
              "        })();\n",
              "      </script>\n",
              "    </div>\n",
              "\n",
              "  <div id=\"id_897692a1-0de0-4063-8ef0-3622c411d730\">\n",
              "    <style>\n",
              "      .colab-df-generate {\n",
              "        background-color: #E8F0FE;\n",
              "        border: none;\n",
              "        border-radius: 50%;\n",
              "        cursor: pointer;\n",
              "        display: none;\n",
              "        fill: #1967D2;\n",
              "        height: 32px;\n",
              "        padding: 0 0 0 0;\n",
              "        width: 32px;\n",
              "      }\n",
              "\n",
              "      .colab-df-generate:hover {\n",
              "        background-color: #E2EBFA;\n",
              "        box-shadow: 0px 1px 2px rgba(60, 64, 67, 0.3), 0px 1px 3px 1px rgba(60, 64, 67, 0.15);\n",
              "        fill: #174EA6;\n",
              "      }\n",
              "\n",
              "      [theme=dark] .colab-df-generate {\n",
              "        background-color: #3B4455;\n",
              "        fill: #D2E3FC;\n",
              "      }\n",
              "\n",
              "      [theme=dark] .colab-df-generate:hover {\n",
              "        background-color: #434B5C;\n",
              "        box-shadow: 0px 1px 3px 1px rgba(0, 0, 0, 0.15);\n",
              "        filter: drop-shadow(0px 1px 2px rgba(0, 0, 0, 0.3));\n",
              "        fill: #FFFFFF;\n",
              "      }\n",
              "    </style>\n",
              "    <button class=\"colab-df-generate\" onclick=\"generateWithVariable('LS')\"\n",
              "            title=\"Generate code using this dataframe.\"\n",
              "            style=\"display:none;\">\n",
              "\n",
              "  <svg xmlns=\"http://www.w3.org/2000/svg\" height=\"24px\"viewBox=\"0 0 24 24\"\n",
              "       width=\"24px\">\n",
              "    <path d=\"M7,19H8.4L18.45,9,17,7.55,7,17.6ZM5,21V16.75L18.45,3.32a2,2,0,0,1,2.83,0l1.4,1.43a1.91,1.91,0,0,1,.58,1.4,1.91,1.91,0,0,1-.58,1.4L9.25,21ZM18.45,9,17,7.55Zm-12,3A5.31,5.31,0,0,0,4.9,8.1,5.31,5.31,0,0,0,1,6.5,5.31,5.31,0,0,0,4.9,4.9,5.31,5.31,0,0,0,6.5,1,5.31,5.31,0,0,0,8.1,4.9,5.31,5.31,0,0,0,12,6.5,5.46,5.46,0,0,0,6.5,12Z\"/>\n",
              "  </svg>\n",
              "    </button>\n",
              "    <script>\n",
              "      (() => {\n",
              "      const buttonEl =\n",
              "        document.querySelector('#id_897692a1-0de0-4063-8ef0-3622c411d730 button.colab-df-generate');\n",
              "      buttonEl.style.display =\n",
              "        google.colab.kernel.accessAllowed ? 'block' : 'none';\n",
              "\n",
              "      buttonEl.onclick = () => {\n",
              "        google.colab.notebook.generateWithVariable('LS');\n",
              "      }\n",
              "      })();\n",
              "    </script>\n",
              "  </div>\n",
              "\n",
              "    </div>\n",
              "  </div>\n"
            ],
            "application/vnd.google.colaboratory.intrinsic+json": {
              "type": "dataframe",
              "variable_name": "LS",
              "summary": "{\n  \"name\": \"LS\",\n  \"rows\": 6604,\n  \"fields\": [\n    {\n      \"column\": \"ID\",\n      \"properties\": {\n        \"dtype\": \"number\",\n        \"std\": 4891,\n        \"min\": 37469,\n        \"max\": 54883,\n        \"num_unique_values\": 6604,\n        \"samples\": [\n          41043,\n          50072,\n          38206\n        ],\n        \"semantic_type\": \"\",\n        \"description\": \"\"\n      }\n    },\n    {\n      \"column\": \"area_rob\",\n      \"properties\": {\n        \"dtype\": \"number\",\n        \"std\": 81665.57068289866,\n        \"min\": 400.0,\n        \"max\": 3197700.0,\n        \"num_unique_values\": 485,\n        \"samples\": [\n          42900.0,\n          66300.0,\n          12800.0\n        ],\n        \"semantic_type\": \"\",\n        \"description\": \"\"\n      }\n    },\n    {\n      \"column\": \"data\",\n      \"properties\": {\n        \"dtype\": \"category\",\n        \"num_unique_values\": 1,\n        \"samples\": [\n          \"rnp\"\n        ],\n        \"semantic_type\": \"\",\n        \"description\": \"\"\n      }\n    },\n    {\n      \"column\": \"geometry\",\n      \"properties\": {\n        \"dtype\": \"geometry\",\n        \"num_unique_values\": 6604,\n        \"samples\": [\n          \"POLYGON ((373386.9222462725 3465975.000000001, 373386.9222462725 3465965.0000000005, 373396.9222462727 3465965.0000000005, 373396.9222462727 3465935, 373376.92224627227 3465935, 373376.92224627227 3465975.000000001, 373386.9222462725 3465975.000000001))\"\n        ],\n        \"semantic_type\": \"\",\n        \"description\": \"\"\n      }\n    }\n  ]\n}"
            }
          },
          "metadata": {},
          "execution_count": 8
        }
      ]
    },
    {
      "cell_type": "markdown",
      "source": [
        "You can see that there are 6604 rows in the data, which means there are 6604 individual landslide polygons.\n",
        "\n",
        "Note that python is a bit wierd in that it starts its index numbering from zero."
      ],
      "metadata": {
        "id": "INZEKSSa73T7"
      }
    },
    {
      "cell_type": "markdown",
      "source": [
        "Each row in the landslide dataset contains a unique identifier (in column ID), the area of the polygon in m2 (area_rob), the initials of the person who mapped it (data), and the geometry of the data (geometry). These attributes are linked to each individual landslide polygon.\n",
        "\n",
        "Using the `gpd.read_file`command, you read the data into a a 'geodataframe', which is very similar to a traditional, non-spatial pandas DataFrame, but with an additional column called geometry."
      ],
      "metadata": {
        "id": "SUHh3tYPDLge"
      }
    },
    {
      "cell_type": "markdown",
      "source": [
        "#Determining the coordinate system of the data\n",
        "It's important to be aware of the coordinate system if the data you're working with. You can find it out using the ```crs``` command. It's easy to make mistakes in spatial data analysis when you aren't aware of the coordinate system of your data. This becomes even more important when you are working with more than one dataset.\n",
        "\n"
      ],
      "metadata": {
        "id": "wygZ_cxMXJem"
      }
    },
    {
      "cell_type": "code",
      "source": [
        "LS.crs"
      ],
      "metadata": {
        "id": "fE0L6lIYXWM6",
        "outputId": "b63c696a-69d4-4e49-da66-3d487523b956",
        "colab": {
          "base_uri": "https://localhost:8080/"
        }
      },
      "execution_count": 10,
      "outputs": [
        {
          "output_type": "execute_result",
          "data": {
            "text/plain": [
              "<Projected CRS: EPSG:32648>\n",
              "Name: WGS 84 / UTM zone 48N\n",
              "Axis Info [cartesian]:\n",
              "- E[east]: Easting (metre)\n",
              "- N[north]: Northing (metre)\n",
              "Area of Use:\n",
              "- name: Between 102°E and 108°E, northern hemisphere between equator and 84°N, onshore and offshore. Cambodia. China. Indonesia. Laos. Malaysia - West Malaysia. Mongolia. Russian Federation. Singapore. Thailand. Vietnam.\n",
              "- bounds: (102.0, 0.0, 108.0, 84.0)\n",
              "Coordinate Operation:\n",
              "- name: UTM zone 48N\n",
              "- method: Transverse Mercator\n",
              "Datum: World Geodetic System 1984 ensemble\n",
              "- Ellipsoid: WGS 84\n",
              "- Prime Meridian: Greenwich"
            ]
          },
          "metadata": {},
          "execution_count": 10
        }
      ]
    },
    {
      "cell_type": "markdown",
      "source": [
        "# Plotting spatial data\n",
        "We can plot the raw spatial data using the code below. In this code, we undertake the following steps:\n",
        "1. Create a figure named f with one axis named ax by using the command plt.subplots (part of the library matplotlib, which we have imported at the top of the notebook).\n",
        "Note how the method is returning two elements and we can assign each of them to objects with different name (f and ax) by simply listing them at the front of the line, separated by commas.\n",
        "2. We plot the geographies and tell the function that we want it to draw the polygons on the axis we are passing, ax. This method returns the axis with the geographies in them, so we make sure to store it on an object with the same name, ax.\n",
        "3. We draw the entire plot by calling plt.show().\n",
        "\n",
        "For more information on matplotlib plotting conventions, see [here](https://matplotlib.org/stable/tutorials/introductory/).\n",
        "\n",
        "You can also save figures outside of this notebook, using the ```plt.savefig``` command -- see below for an example. Any figures you save will be saved in the current working directory and therefore will need to be moved if you want to access them after the session has ended.\n",
        "\n"
      ],
      "metadata": {
        "id": "2wYXposAAWSD"
      }
    },
    {
      "cell_type": "code",
      "source": [
        "# Setup figure and axis\n",
        "f, ax = plt.subplots(1, figsize=(16, 8))\n",
        "# Plot layer of polygons on the axis\n",
        "LS.plot(ax=ax)\n",
        "# Remove axis frames\n",
        "#ax.set_axis_off()\n",
        "# Display\n",
        "plt.show()\n",
        "\n",
        "# Save figure to a PNG file\n",
        "plt.savefig('Wenchuan_landslides.png')\n",
        "\n",
        "plt.tight_layout()\n",
        "\n",
        "# For a very high resolution image we can add the dpi in the command, e.g.\n",
        "#plt.savefig('Wenchuan_landslides.png', dpi = 1080) # I've left this line commented, as you don't need to run it for now.\n"
      ],
      "metadata": {
        "id": "kyiHN5vhLduz",
        "outputId": "26123331-1123-48ce-e502-2b39a080f9c4",
        "colab": {
          "base_uri": "https://localhost:8080/",
          "height": 708
        }
      },
      "execution_count": 11,
      "outputs": [
        {
          "output_type": "display_data",
          "data": {
            "text/plain": [
              "<Figure size 1600x800 with 1 Axes>"
            ],
            "image/png": "[encoded data removed]"
          },
          "metadata": {}
        },
        {
          "output_type": "display_data",
          "data": {
            "text/plain": [
              "<Figure size 640x480 with 0 Axes>"
            ]
          },
          "metadata": {}
        }
      ]
    },
    {
      "cell_type": "markdown",
      "source": [
        "As we've established over the previous weeks, it's always useful to undertake exploratory data analysis to establish key characteristics about the data (hazard) that we're working with.\n",
        "\n",
        "We can use the pandas summary statistics (describe) function to be able to explore the data.\n",
        "\n",
        "The describe funciton gives the:\n",
        "> count\n",
        "\n",
        "> mean\n",
        "\n",
        "> standard deviation\n",
        "\n",
        "> minimum\n",
        "\n",
        "> 25 percentile\n",
        "\n",
        "> 50 percentile\n",
        "\n",
        "> 75 percentiles\n",
        "\n",
        "> max\n",
        "\n",
        "of all numeric columns in the dataset\n"
      ],
      "metadata": {
        "id": "OLjEMa39OjA8"
      }
    },
    {
      "cell_type": "code",
      "source": [
        "LS.describe()"
      ],
      "metadata": {
        "id": "N9N3ImhvD4My",
        "outputId": "90b2ec65-dead-4b72-abf9-90b3ece59af7",
        "colab": {
          "base_uri": "https://localhost:8080/",
          "height": 300
        }
      },
      "execution_count": 12,
      "outputs": [
        {
          "output_type": "execute_result",
          "data": {
            "text/plain": [
              "               ID      area_rob\n",
              "count  6604.00000    6604.00000\n",
              "mean  45827.33677    9574.74258\n",
              "std    4891.00143   81665.57068\n",
              "min   37469.00000     400.00000\n",
              "25%   41495.75000     600.00000\n",
              "50%   45753.50000    1100.00000\n",
              "75%   49935.25000    3000.00000\n",
              "max   54883.00000 3197700.00000"
            ],
            "text/html": [
              "\n",
              "  <div id=\"df-12482127-4426-4988-8b95-88c26f2ddd44\" class=\"colab-df-container\">\n",
              "    <div>\n",
              "<style scoped>\n",
              "    .dataframe tbody tr th:only-of-type {\n",
              "        vertical-align: middle;\n",
              "    }\n",
              "\n",
              "    .dataframe tbody tr th {\n",
              "        vertical-align: top;\n",
              "    }\n",
              "\n",
              "    .dataframe thead th {\n",
              "        text-align: right;\n",
              "    }\n",
              "</style>\n",
              "<table border=\"1\" class=\"dataframe\">\n",
              "  <thead>\n",
              "    <tr style=\"text-align: right;\">\n",
              "      <th></th>\n",
              "      <th>ID</th>\n",
              "      <th>area_rob</th>\n",
              "    </tr>\n",
              "  </thead>\n",
              "  <tbody>\n",
              "    <tr>\n",
              "      <th>count</th>\n",
              "      <td>6604.00000</td>\n",
              "      <td>6604.00000</td>\n",
              "    </tr>\n",
              "    <tr>\n",
              "      <th>mean</th>\n",
              "      <td>45827.33677</td>\n",
              "      <td>9574.74258</td>\n",
              "    </tr>\n",
              "    <tr>\n",
              "      <th>std</th>\n",
              "      <td>4891.00143</td>\n",
              "      <td>81665.57068</td>\n",
              "    </tr>\n",
              "    <tr>\n",
              "      <th>min</th>\n",
              "      <td>37469.00000</td>\n",
              "      <td>400.00000</td>\n",
              "    </tr>\n",
              "    <tr>\n",
              "      <th>25%</th>\n",
              "      <td>41495.75000</td>\n",
              "      <td>600.00000</td>\n",
              "    </tr>\n",
              "    <tr>\n",
              "      <th>50%</th>\n",
              "      <td>45753.50000</td>\n",
              "      <td>1100.00000</td>\n",
              "    </tr>\n",
              "    <tr>\n",
              "      <th>75%</th>\n",
              "      <td>49935.25000</td>\n",
              "      <td>3000.00000</td>\n",
              "    </tr>\n",
              "    <tr>\n",
              "      <th>max</th>\n",
              "      <td>54883.00000</td>\n",
              "      <td>3197700.00000</td>\n",
              "    </tr>\n",
              "  </tbody>\n",
              "</table>\n",
              "</div>\n",
              "    <div class=\"colab-df-buttons\">\n",
              "\n",
              "  <div class=\"colab-df-container\">\n",
              "    <button class=\"colab-df-convert\" onclick=\"convertToInteractive('df-12482127-4426-4988-8b95-88c26f2ddd44')\"\n",
              "            title=\"Convert this dataframe to an interactive table.\"\n",
              "            style=\"display:none;\">\n",
              "\n",
              "  <svg xmlns=\"http://www.w3.org/2000/svg\" height=\"24px\" viewBox=\"0 -960 960 960\">\n",
              "    <path d=\"M120-120v-720h720v720H120Zm60-500h600v-160H180v160Zm220 220h160v-160H400v160Zm0 220h160v-160H400v160ZM180-400h160v-160H180v160Zm440 0h160v-160H620v160ZM180-180h160v-160H180v160Zm440 0h160v-160H620v160Z\"/>\n",
              "  </svg>\n",
              "    </button>\n",
              "\n",
              "  <style>\n",
              "    .colab-df-container {\n",
              "      display:flex;\n",
              "      gap: 12px;\n",
              "    }\n",
              "\n",
              "    .colab-df-convert {\n",
              "      background-color: #E8F0FE;\n",
              "      border: none;\n",
              "      border-radius: 50%;\n",
              "      cursor: pointer;\n",
              "      display: none;\n",
              "      fill: #1967D2;\n",
              "      height: 32px;\n",
              "      padding: 0 0 0 0;\n",
              "      width: 32px;\n",
              "    }\n",
              "\n",
              "    .colab-df-convert:hover {\n",
              "      background-color: #E2EBFA;\n",
              "      box-shadow: 0px 1px 2px rgba(60, 64, 67, 0.3), 0px 1px 3px 1px rgba(60, 64, 67, 0.15);\n",
              "      fill: #174EA6;\n",
              "    }\n",
              "\n",
              "    .colab-df-buttons div {\n",
              "      margin-bottom: 4px;\n",
              "    }\n",
              "\n",
              "    [theme=dark] .colab-df-convert {\n",
              "      background-color: #3B4455;\n",
              "      fill: #D2E3FC;\n",
              "    }\n",
              "\n",
              "    [theme=dark] .colab-df-convert:hover {\n",
              "      background-color: #434B5C;\n",
              "      box-shadow: 0px 1px 3px 1px rgba(0, 0, 0, 0.15);\n",
              "      filter: drop-shadow(0px 1px 2px rgba(0, 0, 0, 0.3));\n",
              "      fill: #FFFFFF;\n",
              "    }\n",
              "  </style>\n",
              "\n",
              "    <script>\n",
              "      const buttonEl =\n",
              "        document.querySelector('#df-12482127-4426-4988-8b95-88c26f2ddd44 button.colab-df-convert');\n",
              "      buttonEl.style.display =\n",
              "        google.colab.kernel.accessAllowed ? 'block' : 'none';\n",
              "\n",
              "      async function convertToInteractive(key) {\n",
              "        const element = document.querySelector('#df-12482127-4426-4988-8b95-88c26f2ddd44');\n",
              "        const dataTable =\n",
              "          await google.colab.kernel.invokeFunction('convertToInteractive',\n",
              "                                                    [key], {});\n",
              "        if (!dataTable) return;\n",
              "\n",
              "        const docLinkHtml = 'Like what you see? Visit the ' +\n",
              "          '<a target=\"_blank\" href=https://colab.research.google.com/notebooks/data_table.ipynb>data table notebook</a>'\n",
              "          + ' to learn more about interactive tables.';\n",
              "        element.innerHTML = '';\n",
              "        dataTable['output_type'] = 'display_data';\n",
              "        await google.colab.output.renderOutput(dataTable, element);\n",
              "        const docLink = document.createElement('div');\n",
              "        docLink.innerHTML = docLinkHtml;\n",
              "        element.appendChild(docLink);\n",
              "      }\n",
              "    </script>\n",
              "  </div>\n",
              "\n",
              "\n",
              "    <div id=\"df-d1612f3e-d538-4eca-87ec-ee60ffde43e6\">\n",
              "      <button class=\"colab-df-quickchart\" onclick=\"quickchart('df-d1612f3e-d538-4eca-87ec-ee60ffde43e6')\"\n",
              "                title=\"Suggest charts\"\n",
              "                style=\"display:none;\">\n",
              "\n",
              "<svg xmlns=\"http://www.w3.org/2000/svg\" height=\"24px\"viewBox=\"0 0 24 24\"\n",
              "     width=\"24px\">\n",
              "    <g>\n",
              "        <path d=\"M19 3H5c-1.1 0-2 .9-2 2v14c0 1.1.9 2 2 2h14c1.1 0 2-.9 2-2V5c0-1.1-.9-2-2-2zM9 17H7v-7h2v7zm4 0h-2V7h2v10zm4 0h-2v-4h2v4z\"/>\n",
              "    </g>\n",
              "</svg>\n",
              "      </button>\n",
              "\n",
              "<style>\n",
              "  .colab-df-quickchart {\n",
              "      --bg-color: #E8F0FE;\n",
              "      --fill-color: #1967D2;\n",
              "      --hover-bg-color: #E2EBFA;\n",
              "      --hover-fill-color: #174EA6;\n",
              "      --disabled-fill-color: #AAA;\n",
              "      --disabled-bg-color: #DDD;\n",
              "  }\n",
              "\n",
              "  [theme=dark] .colab-df-quickchart {\n",
              "      --bg-color: #3B4455;\n",
              "      --fill-color: #D2E3FC;\n",
              "      --hover-bg-color: #434B5C;\n",
              "      --hover-fill-color: #FFFFFF;\n",
              "      --disabled-bg-color: #3B4455;\n",
              "      --disabled-fill-color: #666;\n",
              "  }\n",
              "\n",
              "  .colab-df-quickchart {\n",
              "    background-color: var(--bg-color);\n",
              "    border: none;\n",
              "    border-radius: 50%;\n",
              "    cursor: pointer;\n",
              "    display: none;\n",
              "    fill: var(--fill-color);\n",
              "    height: 32px;\n",
              "    padding: 0;\n",
              "    width: 32px;\n",
              "  }\n",
              "\n",
              "  .colab-df-quickchart:hover {\n",
              "    background-color: var(--hover-bg-color);\n",
              "    box-shadow: 0 1px 2px rgba(60, 64, 67, 0.3), 0 1px 3px 1px rgba(60, 64, 67, 0.15);\n",
              "    fill: var(--button-hover-fill-color);\n",
              "  }\n",
              "\n",
              "  .colab-df-quickchart-complete:disabled,\n",
              "  .colab-df-quickchart-complete:disabled:hover {\n",
              "    background-color: var(--disabled-bg-color);\n",
              "    fill: var(--disabled-fill-color);\n",
              "    box-shadow: none;\n",
              "  }\n",
              "\n",
              "  .colab-df-spinner {\n",
              "    border: 2px solid var(--fill-color);\n",
              "    border-color: transparent;\n",
              "    border-bottom-color: var(--fill-color);\n",
              "    animation:\n",
              "      spin 1s steps(1) infinite;\n",
              "  }\n",
              "\n",
              "  @keyframes spin {\n",
              "    0% {\n",
              "      border-color: transparent;\n",
              "      border-bottom-color: var(--fill-color);\n",
              "      border-left-color: var(--fill-color);\n",
              "    }\n",
              "    20% {\n",
              "      border-color: transparent;\n",
              "      border-left-color: var(--fill-color);\n",
              "      border-top-color: var(--fill-color);\n",
              "    }\n",
              "    30% {\n",
              "      border-color: transparent;\n",
              "      border-left-color: var(--fill-color);\n",
              "      border-top-color: var(--fill-color);\n",
              "      border-right-color: var(--fill-color);\n",
              "    }\n",
              "    40% {\n",
              "      border-color: transparent;\n",
              "      border-right-color: var(--fill-color);\n",
              "      border-top-color: var(--fill-color);\n",
              "    }\n",
              "    60% {\n",
              "      border-color: transparent;\n",
              "      border-right-color: var(--fill-color);\n",
              "    }\n",
              "    80% {\n",
              "      border-color: transparent;\n",
              "      border-right-color: var(--fill-color);\n",
              "      border-bottom-color: var(--fill-color);\n",
              "    }\n",
              "    90% {\n",
              "      border-color: transparent;\n",
              "      border-bottom-color: var(--fill-color);\n",
              "    }\n",
              "  }\n",
              "</style>\n",
              "\n",
              "      <script>\n",
              "        async function quickchart(key) {\n",
              "          const quickchartButtonEl =\n",
              "            document.querySelector('#' + key + ' button');\n",
              "          quickchartButtonEl.disabled = true;  // To prevent multiple clicks.\n",
              "          quickchartButtonEl.classList.add('colab-df-spinner');\n",
              "          try {\n",
              "            const charts = await google.colab.kernel.invokeFunction(\n",
              "                'suggestCharts', [key], {});\n",
              "          } catch (error) {\n",
              "            console.error('Error during call to suggestCharts:', error);\n",
              "          }\n",
              "          quickchartButtonEl.classList.remove('colab-df-spinner');\n",
              "          quickchartButtonEl.classList.add('colab-df-quickchart-complete');\n",
              "        }\n",
              "        (() => {\n",
              "          let quickchartButtonEl =\n",
              "            document.querySelector('#df-d1612f3e-d538-4eca-87ec-ee60ffde43e6 button');\n",
              "          quickchartButtonEl.style.display =\n",
              "            google.colab.kernel.accessAllowed ? 'block' : 'none';\n",
              "        })();\n",
              "      </script>\n",
              "    </div>\n",
              "\n",
              "    </div>\n",
              "  </div>\n"
            ],
            "application/vnd.google.colaboratory.intrinsic+json": {
              "type": "dataframe",
              "summary": "{\n  \"name\": \"LS\",\n  \"rows\": 8,\n  \"fields\": [\n    {\n      \"column\": \"ID\",\n      \"properties\": {\n        \"dtype\": \"number\",\n        \"std\": 19296.777108803548,\n        \"min\": 4891.001430271543,\n        \"max\": 54883.0,\n        \"num_unique_values\": 8,\n        \"samples\": [\n          45827.33676559661,\n          45753.5,\n          6604.0\n        ],\n        \"semantic_type\": \"\",\n        \"description\": \"\"\n      }\n    },\n    {\n      \"column\": \"area_rob\",\n      \"properties\": {\n        \"dtype\": \"number\",\n        \"std\": 1125694.640376833,\n        \"min\": 400.0,\n        \"max\": 3197700.0,\n        \"num_unique_values\": 8,\n        \"samples\": [\n          9574.742580254391,\n          1100.0,\n          6604.0\n        ],\n        \"semantic_type\": \"\",\n        \"description\": \"\"\n      }\n    }\n  ]\n}"
            }
          },
          "metadata": {},
          "execution_count": 12
        }
      ]
    },
    {
      "cell_type": "markdown",
      "source": [
        "**What's the maximum landslide size (including correct units)?**\n",
        "\n"
      ],
      "metadata": {
        "id": "eXsB-QXuPd1p"
      }
    },
    {
      "cell_type": "markdown",
      "source": [
        "For other summary infromation that is not given by the describe funciton, we can calculate this manually. For instance, we might be interested in the total area of landslides in the study area. We can calculate this using the pandas 'series sum' function."
      ],
      "metadata": {
        "id": "ZMPDkAMgI96s"
      }
    },
    {
      "cell_type": "code",
      "source": [
        "total_area = pd.Series(LS['area_rob'].sum(), index=['area_rob'])\n",
        "print(total_area)"
      ],
      "metadata": {
        "id": "2opH2fx0JLgm",
        "outputId": "6f9cd247-9b87-4843-bd3d-f92e0cf38c1c",
        "colab": {
          "base_uri": "https://localhost:8080/"
        }
      },
      "execution_count": 13,
      "outputs": [
        {
          "output_type": "stream",
          "name": "stdout",
          "text": [
            "area_rob   63231600.00000\n",
            "dtype: float64\n"
          ]
        }
      ]
    },
    {
      "cell_type": "markdown",
      "source": [
        "**What's the total area affected by landslides in the study area?**\n",
        "\n",
        "**What percentage of the entire study area is affected by landslides?**\n",
        "To answer this question you will have to undertake a further calculation which you can enter below:\n",
        "\n",
        "\n"
      ],
      "metadata": {
        "id": "HsGdT4SBIsL5"
      }
    },
    {
      "cell_type": "code",
      "source": [
        "#Add your calculations here in order to answer the above question:\n",
        "study_area = 20000*20000\n",
        "percent_LS = total_area/study_area*100\n",
        "percent_LS"
      ],
      "metadata": {
        "id": "qzrRQFugTIRU",
        "outputId": "b9af3223-17c0-4590-8338-0809de2d9226",
        "colab": {
          "base_uri": "https://localhost:8080/",
          "height": 115
        }
      },
      "execution_count": 17,
      "outputs": [
        {
          "output_type": "execute_result",
          "data": {
            "text/plain": [
              "area_rob   15.80790\n",
              "dtype: float64"
            ],
            "text/html": [
              "<div>\n",
              "<style scoped>\n",
              "    .dataframe tbody tr th:only-of-type {\n",
              "        vertical-align: middle;\n",
              "    }\n",
              "\n",
              "    .dataframe tbody tr th {\n",
              "        vertical-align: top;\n",
              "    }\n",
              "\n",
              "    .dataframe thead th {\n",
              "        text-align: right;\n",
              "    }\n",
              "</style>\n",
              "<table border=\"1\" class=\"dataframe\">\n",
              "  <thead>\n",
              "    <tr style=\"text-align: right;\">\n",
              "      <th></th>\n",
              "      <th>0</th>\n",
              "    </tr>\n",
              "  </thead>\n",
              "  <tbody>\n",
              "    <tr>\n",
              "      <th>area_rob</th>\n",
              "      <td>15.80790</td>\n",
              "    </tr>\n",
              "  </tbody>\n",
              "</table>\n",
              "</div><br><label><b>dtype:</b> float64</label>"
            ]
          },
          "metadata": {},
          "execution_count": 17
        }
      ]
    },
    {
      "cell_type": "markdown",
      "source": [
        "#Exercise 1: Point pattern analysis\n",
        "Let's explore patterns in the landslide data. First, we'll explore landslide patterns by prepresenting them as points. To do this we extract a point (the centroid) from the landslide polygons that we've just been exploring."
      ],
      "metadata": {
        "id": "Lt91m8Zm7_Wq"
      }
    },
    {
      "cell_type": "code",
      "source": [
        "#extracting points from the landslide polygons\n",
        "points = LS.copy()\n",
        "# change geometry\n",
        "points['geometry'] = points['geometry'].centroid\n",
        "points"
      ],
      "metadata": {
        "id": "waCUPau08KBo"
      },
      "execution_count": null,
      "outputs": []
    },
    {
      "cell_type": "markdown",
      "source": [
        "As we've already established, the first step to get a sense of what the spatial dimension of this dataset looks like is to plot it."
      ],
      "metadata": {
        "id": "a1_zltQV8bFQ"
      }
    },
    {
      "cell_type": "code",
      "source": [
        "f, ax = plt.subplots(1, figsize=(12, 8))\n",
        "points.plot(ax=ax) # this is the landslide data represented as points\n",
        "plt.autoscale(True)\n",
        "plt.tight_layout()"
      ],
      "metadata": {
        "id": "gDfHlU0F8aqJ"
      },
      "execution_count": null,
      "outputs": []
    },
    {
      "cell_type": "markdown",
      "source": [
        "You can see that this plot is very cluttered. To deal with this, we can view it as a spatial or 2-D histogram. Here, we generate a regular grid (either squared or hexagonal), count how many dots fall within each grid cell. This is attractive because it is simple and intuitive.\n",
        "\n",
        "First, let's create the regular grid."
      ],
      "metadata": {
        "id": "y8kAvRFU-f1u"
      }
    },
    {
      "cell_type": "code",
      "source": [
        "from shapely.geometry import Polygon\n",
        "\n",
        "# total area for the grid\n",
        "xmin, ymin, xmax, ymax= LS.total_bounds # this function extracts the bounding coordinates of the landslide data\n",
        "width = 500\n",
        "height = 500\n",
        "# projection of the grid - this sets the crs to be the same as the data we area already working with\n",
        "crs = LS.crs\n",
        "rows = int(np.ceil((ymax-ymin) /  height))\n",
        "cols = int(np.ceil((xmax-xmin) / width))\n",
        "XleftOrigin = xmin\n",
        "XrightOrigin = xmin + width\n",
        "YtopOrigin = ymax\n",
        "YbottomOrigin = ymax- height\n",
        "polygons = []\n",
        "for i in range(cols):\n",
        "   Ytop = YtopOrigin\n",
        "   Ybottom =YbottomOrigin\n",
        "   for j in range(rows):\n",
        "       polygons.append(Polygon([(XleftOrigin, Ytop), (XrightOrigin, Ytop), (XrightOrigin, Ybottom), (XleftOrigin, Ybottom)]))\n",
        "       Ytop = Ytop - height\n",
        "       Ybottom = Ybottom - height\n",
        "   XleftOrigin = XleftOrigin + width\n",
        "   XrightOrigin = XrightOrigin + width\n",
        "\n",
        "grid = gpd.GeoDataFrame({'geometry':polygons}, crs=crs)\n",
        "grid"
      ],
      "metadata": {
        "id": "sQTCgLlkWRcM"
      },
      "execution_count": null,
      "outputs": []
    },
    {
      "cell_type": "markdown",
      "source": [
        "Next, we'll create a new object called `landslide_count` and store the result of a spatial join between landslide points and the grid."
      ],
      "metadata": {
        "id": "XnQwgP8F8PMI"
      }
    },
    {
      "cell_type": "code",
      "source": [
        "landslide_count = gpd.sjoin(grid, points, how='left', predicate ='contains')\n",
        "landslide_count"
      ],
      "metadata": {
        "id": "2dvLvfiE8om9"
      },
      "execution_count": null,
      "outputs": []
    },
    {
      "cell_type": "markdown",
      "source": [
        "Each landslide carries the ID of its corresponding grid cell (on the far left of the above table). Let's explicitly add this grid cell ID to the geodataframe:"
      ],
      "metadata": {
        "id": "KlkdxOdK9VRc"
      }
    },
    {
      "cell_type": "code",
      "source": [
        "landslide_count['grid_index'] = landslide_count.index\n",
        "landslide_count"
      ],
      "metadata": {
        "id": "SCs4d7kL9lgD"
      },
      "execution_count": null,
      "outputs": []
    },
    {
      "cell_type": "markdown",
      "source": [
        "Now we want to count the number of landslides in each grid cell. We can do this using the dissolve tool (which simplifies data), counting the number of landslides within each grid cell."
      ],
      "metadata": {
        "id": "SQBIit1qPTVA"
      }
    },
    {
      "cell_type": "code",
      "source": [
        "landslide_count_dissolve = landslide_count.dissolve(by='grid_index', aggfunc='count')\n",
        "landslide_count_dissolve"
      ],
      "metadata": {
        "id": "_e2dNicLPjTg"
      },
      "execution_count": null,
      "outputs": []
    },
    {
      "cell_type": "markdown",
      "source": [
        "In the table above, you can see that for the attributes that were associated with the landslide point data, you now have the 'count' of how many landslides there were in each grid cell.\n",
        "\n",
        "So, for example, for grid cell with an index of 3, there were 7 landslide points within that cell. Whilst for grid cell with an index of 0, there were 0 landslides.\n",
        "\n",
        "We can now plot out the resulting landslide point density map."
      ],
      "metadata": {
        "id": "d3Mc7GN8QjZy"
      }
    },
    {
      "cell_type": "code",
      "source": [
        "f, ax = plt.subplots(1, figsize=(12, 8))\n",
        "landslide_count_dissolve.plot(ax=ax, column='index_right', cmap='jet', legend = True) # here, cmap = 'jet' specifies the colour ramp I've chosen to use.\n",
        "plt.autoscale(True)\n",
        "grid.plot(ax=ax, facecolor=\"none\", edgecolor='grey') # this is where you overlay the grid"
      ],
      "metadata": {
        "id": "gvxB3heoRB7R"
      },
      "execution_count": null,
      "outputs": []
    },
    {
      "cell_type": "markdown",
      "source": [
        "## Summarising spatial patterns using a kernel density estimate\n",
        "\n",
        "We can also summarise the spatial distribution of points using a kernel density function. This is simple to achieve using the seaborn package.\n",
        "\n",
        "A kernel density function replaces plotting every single point by estimating the continuous observed probability distribution. It's not too dissimilar to the point densiyt counts that you've just carried out, but it differs in that it abstracts a surface that models the probability of point density over space. The idea behind kernel density estimates is to count the number of points in a continious way. Instead of using discrete counting, where you include a point in the count if it is inside a certain boundary and ignore it otherwise, KDEs use functions (kernels) that include points but give different weights to each one depending of how far of the location where we are counting the point is.\n",
        "\n",
        "To use the functions contained within the seaborn package, we need x and y coordinates of the points."
      ],
      "metadata": {
        "id": "Pj5N5hUCW_6x"
      }
    },
    {
      "cell_type": "code",
      "source": [
        "points[\"x\"] = points.geometry.x\n",
        "points[\"y\"] = points.geometry.y"
      ],
      "metadata": {
        "id": "4zhRtr_DXIZP"
      },
      "execution_count": null,
      "outputs": []
    },
    {
      "cell_type": "markdown",
      "source": [
        "Once you have these x and y coordinates, creating a kernel density estimate is very straightfoward in Python. In its simplest form, we can run the following single line of code:"
      ],
      "metadata": {
        "id": "hszgac3TXn5T"
      }
    },
    {
      "cell_type": "code",
      "source": [
        "seaborn.kdeplot(data = points, x = \"x\", y = \"y\", shade=True, cmap='viridis', cbar = True)"
      ],
      "metadata": {
        "id": "vdfsvYbQXqEg"
      },
      "execution_count": null,
      "outputs": []
    },
    {
      "cell_type": "markdown",
      "source": [
        "Much like with the bin size in the histogram, the ability of the kernel density estimate to accurately represent the data depends on the choice of smoothing bandwidth. An over-smoothed estimate might erase meaningful patterns, but an under-smoothed estimate can obscure the true patterns within random noise. The easiest way to check the robustness of the estimate is to adjust the default bandwidth (which is a backend calculation in seaborn using scipy, and is based on the distribution of the data).\n",
        "\n",
        "**Add a bw_adjust function (e.g. ```bw_adjust = 0.5```) to the code below, and have a play around to see how different values of bw_adjust alter the resulting kernel density estimation.**"
      ],
      "metadata": {
        "id": "B5ikPP-qdHYO"
      }
    },
    {
      "cell_type": "code",
      "source": [
        "seaborn.kdeplot(data = points, x = \"x\", y = \"y\", shade=True, cmap='viridis', cbar = True)"
      ],
      "metadata": {
        "id": "SPvavviRbvR6"
      },
      "execution_count": null,
      "outputs": []
    },
    {
      "cell_type": "markdown",
      "source": [
        "You can read more about the different parameter options for kernel density estimates using the seaborn package [here](https://seaborn.pydata.org/generated/seaborn.kdeplot.html)."
      ],
      "metadata": {
        "id": "-wfwz4JKafcN"
      }
    },
    {
      "cell_type": "markdown",
      "source": [
        "#Exercise 2: Landslide area density\n",
        "To undertake density calculations, we need to divide the study area up into regions within which we are going to undertake density calculations.\n",
        "\n",
        "We can do this using the geopandas package.\n",
        "\n",
        "\n"
      ],
      "metadata": {
        "id": "gQwMB7EmV1Qv"
      }
    },
    {
      "cell_type": "markdown",
      "source": [
        "Plotting the grid over the data shows how the landslides are generally clustered into a few regions and we’ll end up with many “empty” grid cells:"
      ],
      "metadata": {
        "id": "eHzi-HEBY4oj"
      }
    },
    {
      "cell_type": "code",
      "source": [
        "f, ax = plt.subplots(1, figsize=(12, 8))\n",
        "LS.plot(ax=ax) # this is the landslide data\n",
        "plt.autoscale(True)\n",
        "grid.plot(ax=ax, facecolor=\"none\", edgecolor='grey') # this is where you overlay the grid!\n",
        "plt.tight_layout()"
      ],
      "metadata": {
        "id": "nqzJIqV4Y-vP"
      },
      "execution_count": null,
      "outputs": []
    },
    {
      "cell_type": "markdown",
      "source": [
        "We’re going to determine the area of landslides in each square polygon. This takes a couple of steps in GeoPandas.\n",
        "\n",
        "First, we use the intersect tool to divide up the landslide polygons based on the grid cells. Then we calculate the area of each fragmented landslide polygon, and add the landslide index to the dataframe (just to make sure it gets carried over into the subsequent analysis)."
      ],
      "metadata": {
        "id": "cXVONUlmJMNe"
      }
    },
    {
      "cell_type": "code",
      "source": [
        "#LS_intersection = LS.overlay(cell, keep_geom_type = False)\n",
        "LS_intersect = LS.overlay(grid, how='intersection', keep_geom_type=False)\n",
        "LS_intersect['LS_area'] =LS_intersect.apply(lambda row: row.geometry.area,axis=1) # calculate the area of each landslide segment\n",
        "LS_intersect['LS_index'] = LS_intersect.index\n",
        "print(LS_intersect)\n"
      ],
      "metadata": {
        "id": "zLToCM9Zij75"
      },
      "execution_count": null,
      "outputs": []
    },
    {
      "cell_type": "markdown",
      "source": [
        "We can plot out the data to check it looks sensible..."
      ],
      "metadata": {
        "id": "SgIUXbNWxL_s"
      }
    },
    {
      "cell_type": "code",
      "source": [
        "f, ax = plt.subplots(1, figsize=(25, 15))\n",
        "LS_intersect.plot(ax=ax, facecolor = \"none\", edgecolor = 'red')\n",
        "plt.autoscale(True)\n",
        "#cell.plot(ax=ax, facecolor=\"none\")#, edgecolor='grey') # this is where you overlay the grid"
      ],
      "metadata": {
        "id": "zYNhf4qYjFus"
      },
      "execution_count": null,
      "outputs": []
    },
    {
      "cell_type": "markdown",
      "source": [
        "This looks good. You can clearly see where landslide polygons have been divided up where they cross grid cells."
      ],
      "metadata": {
        "id": "9ZjhIH17xXdk"
      }
    },
    {
      "cell_type": "markdown",
      "source": [
        "The next task is to undertake a spatial join, to join the landslide data to the grid.We do this using the geopandas spatial join, ```sjoin``` tool.\n",
        "\n"
      ],
      "metadata": {
        "id": "xASaDDhTxev_"
      }
    },
    {
      "cell_type": "code",
      "source": [
        "merged = gpd.sjoin(grid, LS_intersect, predicate = 'contains', how='left')\n",
        "merged"
      ],
      "metadata": {
        "id": "qyIShIwWaaOC"
      },
      "execution_count": null,
      "outputs": []
    },
    {
      "cell_type": "markdown",
      "source": [
        "**Why do you think that some rows in the dataframe have NaN values?**"
      ],
      "metadata": {
        "id": "N5w1q2_WxzDq"
      }
    },
    {
      "cell_type": "markdown",
      "source": [
        "As we did before, we'll add the grid index to the dataframe:"
      ],
      "metadata": {
        "id": "_vozWSH5xtYJ"
      }
    },
    {
      "cell_type": "code",
      "source": [
        "merged['grid_index'] = merged.index # here, we add the index of the cells covering the study area into the dataframe so that we can use this in our analysis"
      ],
      "metadata": {
        "id": "7zJYxM5hntVB"
      },
      "execution_count": null,
      "outputs": []
    },
    {
      "cell_type": "code",
      "source": [
        "merged"
      ],
      "metadata": {
        "id": "6SNhYEGCc6W_"
      },
      "execution_count": null,
      "outputs": []
    },
    {
      "cell_type": "markdown",
      "source": [
        "Now we want to sum up the area of landslides in each grid cell. In case there are more than one landslide per grid cell, we can dissolve the data, i.e. making the data more sparse, or in otherwords combine information (landslide area) from individual landslide polygons, to a total landslide area per grid cell."
      ],
      "metadata": {
        "id": "5-StOQvwkU4f"
      }
    },
    {
      "cell_type": "code",
      "source": [
        "# Compute stats per grid cell -- aggregate landslides to grid cells with dissolve\n",
        "dissolve_merged = merged.dissolve(by='grid_index', aggfunc='sum') # sums up all the values in the area column\n",
        "dissolve_merged"
      ],
      "metadata": {
        "id": "-45r5Ycjkk7U"
      },
      "execution_count": null,
      "outputs": []
    },
    {
      "cell_type": "markdown",
      "source": [
        "Next, to help with landslide area density calculations, we need to total area of each grid cell. There are multiple ways we can calculate this (we specified the dimensions of each grid cell earlier). I always like to calculate dimensions based on the actual data, as there's less room for error."
      ],
      "metadata": {
        "id": "oTDxZ9bSy5CD"
      }
    },
    {
      "cell_type": "code",
      "source": [
        "dissolve_merged['cellarea'] =dissolve_merged.apply(lambda row: row.geometry.area,axis=1)\n",
        "dissolve_merged\n",
        "\n",
        "# Note that when you write out the dataframe, there's a little blue pen, which you can click to work interactivley with the dataframe, for instance if you want to interrogate the data manually."
      ],
      "metadata": {
        "id": "pA4TuPCwuDs0"
      },
      "execution_count": null,
      "outputs": []
    },
    {
      "cell_type": "markdown",
      "source": [
        "Now you've got the area of landsides in each grid cell you can finally calculate the landslide area density, which is simply the area of landslides in each cell, divided by the area of that cell, multiplied by 100, to give landslide area as a %.\n"
      ],
      "metadata": {
        "id": "12zBDNxb0HkU"
      }
    },
    {
      "cell_type": "code",
      "source": [
        "dissolve_merged['area_density'] = (dissolve_merged['LS_area']/dissolve_merged['cellarea'])*100\n",
        "dissolve_merged"
      ],
      "metadata": {
        "id": "rpSnB1bx1lk_"
      },
      "execution_count": null,
      "outputs": []
    },
    {
      "cell_type": "markdown",
      "source": [
        "Finally, to plot the end product of this analysis:"
      ],
      "metadata": {
        "id": "Fvf81kSwzzAv"
      }
    },
    {
      "cell_type": "code",
      "source": [
        "f, ax = plt.subplots(1, figsize=(12, 8))\n",
        "dissolve_merged.plot(ax=ax, column='area_density', cmap='jet', legend = True) # here, cmap = 'jet' specifies the colour ramp I've chosen to use.\n",
        "plt.autoscale(True)\n",
        "grid.plot(ax=ax, facecolor=\"none\", edgecolor='grey') # this is where you overlay the grid\n"
      ],
      "metadata": {
        "id": "nsb0LoWik8I0"
      },
      "execution_count": null,
      "outputs": []
    },
    {
      "cell_type": "markdown",
      "source": [
        "In Exercise 1 you calculated the point density of landslides and explored kernel density estimates. In Exercise 2 you calculated the area density of landslides.\n",
        "\n",
        "**Compare and contrast the resulting patterns of landslides from these different types of analyses. Have a think about which approach is most useful and why, given different hazards we're interested in, and the different data formats available to us (e.g. point/polygon/line) representations of hazards**\n",
        "\n"
      ],
      "metadata": {
        "id": "qtwHDAn2Ro05"
      }
    },
    {
      "cell_type": "markdown",
      "source": [
        "##Extra task\n",
        "Have a play around with the grid size and evaluate effects of changing cell size on the resulting patterns of landslide area density."
      ],
      "metadata": {
        "id": "eN-2SufUiHUs"
      }
    },
    {
      "cell_type": "markdown",
      "source": [
        "# Exercise 3: Event effectiveness\n",
        "\n",
        "Linking back to the first part of the lecture on event effectiveness, to be able to determine effectiveness, we must be able to\n",
        "  1.\tconvert landslide area to some measure of effect, and\n",
        "  2.\tcalculate the effect of landslides in each size bin\n",
        "\n",
        "A reasonable measure of landslide ‘effect’ is the landslide volume – this indicates the amount of erodible sediment that was created by the landslide, and which may have hazardous impacts as it is mobilized and moved downstream. To determine this, we need to use an empirical scaling relationship to convert area to volume. For a sample of landslides that occurred following the Wenchuan earthquake, Parker et al (2011) found the relationship to be:\n",
        "\\begin{equation}\n",
        "    \\ V = 0.106 A^{1.388}\n",
        "\\end{equation}\n",
        "where *A* is area in m<sup>2</sup> and *V* is volume in m<sup>3</sup>.\n",
        "\n",
        "\n",
        "In a later study, [Xu et al (2016)](https://www.nature.com/articles/srep29797) found that:\n",
        "\\begin{equation}\n",
        "    \\ V = 0.135 A^{1.208}\n",
        "\\end{equation}\n",
        "\n",
        "\n",
        "We can then apply this area-volume scaling relationship to each individual landslide, and then sum up the individual volumes.\n",
        "\n",
        "\n",
        "\n"
      ],
      "metadata": {
        "id": "SqMmm65BPkOx"
      }
    },
    {
      "cell_type": "code",
      "source": [
        "LS[\"volume\"] = 0.106*LS.area_rob**1.388\n"
      ],
      "metadata": {
        "id": "iMxNsCSwPck7"
      },
      "execution_count": null,
      "outputs": []
    },
    {
      "cell_type": "markdown",
      "source": [
        "To divide the data into bins, you can use the following code to cut the data into bins, and then group the data into these different bins."
      ],
      "metadata": {
        "id": "6HgLS0U2f48J"
      }
    },
    {
      "cell_type": "code",
      "source": [
        "g = pd.cut(LS['area_rob'], bins=np.logspace(np.log10(min(LS.area_rob)),np.log10(max(LS.area_rob)), 30)) # The cut function converts continuous data into discrete bins.\n",
        "summaryLS = LS.groupby(g, observed=True).agg(area_count=('area_rob','count'), volume_sum=('volume','sum')).astype(float)\n",
        "summaryLS['index1'] = summaryLS.index\n",
        "\n"
      ],
      "metadata": {
        "id": "rAPfVho1sA4A"
      },
      "execution_count": null,
      "outputs": []
    },
    {
      "cell_type": "code",
      "source": [
        "summaryLS"
      ],
      "metadata": {
        "id": "RY2JtzMIIRnl"
      },
      "execution_count": null,
      "outputs": []
    },
    {
      "cell_type": "code",
      "source": [
        "values = np.logspace(np.log10(min(LS.area_rob)),np.log10(max(LS.area_rob)), 30)\n",
        "values = values[1:] # this line of code removes the first value form the array because for the sake of plotting the data, we'll take the upper limit of each bin interval\n",
        "print(values)"
      ],
      "metadata": {
        "id": "pyemm6ee_B0i"
      },
      "execution_count": null,
      "outputs": []
    },
    {
      "cell_type": "code",
      "source": [
        "volume_sum = np.array(summaryLS.volume_sum)\n",
        "#print(volume_sum)"
      ],
      "metadata": {
        "id": "DLBJnazGFdO5"
      },
      "execution_count": null,
      "outputs": []
    },
    {
      "cell_type": "markdown",
      "source": [
        "The 'volume_sum' is the effectiveness; i.e. the sum of individual landslide volumes in each bin.\n",
        "\n",
        "We can also plot out how landslide volume changes according to the equation above:\n"
      ],
      "metadata": {
        "id": "NDnUkKe5NjYv"
      }
    },
    {
      "cell_type": "code",
      "source": [
        "Volume = 0.106*values**1.388\n",
        "#print(Volume)"
      ],
      "metadata": {
        "id": "mH76ctn6Nips"
      },
      "execution_count": null,
      "outputs": []
    },
    {
      "cell_type": "code",
      "source": [
        "fig, ax = plt.subplots()\n",
        "ax.plot(values, summaryLS.area_count, color = 'red', label = 'frequency')\n",
        "ax.plot(values, Volume, color = 'green', label = 'volume')\n",
        "ax.plot(values, summaryLS.volume_sum, color = 'blue', label = 'effectiveness')\n",
        "ax.set_xlabel(\"Area m^2\")\n",
        "ax.set_ylabel(\"Frequency/Volume m^3/Effectiveness m^3\")\n",
        "ax.set_yscale('log')\n",
        "ax.set_xscale('log')\n",
        "ax.legend()\n",
        "plt.show()\n",
        "\n"
      ],
      "metadata": {
        "id": "RgGuKh6SxNep"
      },
      "execution_count": null,
      "outputs": []
    },
    {
      "cell_type": "markdown",
      "source": [
        "**What do you observe about changes landslide effectiveness with an increase in landslide area?**\n",
        "**What are some limitations/uncertainties of this analysis?**"
      ],
      "metadata": {
        "id": "tvcAPpFZgW2d"
      }
    },
    {
      "cell_type": "markdown",
      "source": [
        "## Extra task\n",
        "In the above task, we calculated landslide effectiveness using the Parker et al (2011) equation. How different is landslide effectiveness when calculated using the Xu et al (2016) area to volume relation? Differences in the results indicante a source of uncertainty in our estimatation of landslide effectiveness.\n",
        "What might other sources of uncertainty be?\n",
        "\n",
        "Linking back to the work you've undertaken during the previous few weeks, you could explore the frequency magnitude distribution of the landslides. Do they fit a powerlaw distribution in the same way that the earthquakes we've explored in the previous few weeks do?"
      ],
      "metadata": {
        "id": "kMKxAleCGptL"
      }
    }
  ]
}